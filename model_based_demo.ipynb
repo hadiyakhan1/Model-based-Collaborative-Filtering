{
 "cells": [
  {
   "cell_type": "code",
   "execution_count": null,
   "id": "736167f9",
   "metadata": {},
   "outputs": [],
   "source": [
    "#importing necessary packages\n",
    "from surprise import SVD\n",
    "from surprise import Dataset\n",
    "from surprise import accuracy\n",
    "from surprise.model_selection import train_test_split"
   ]
  },
  {
   "cell_type": "code",
   "execution_count": null,
   "id": "35f106ce",
   "metadata": {},
   "outputs": [],
   "source": [
    "#Load the MovieLens dataset\n",
    "data = Dataset.load_builtin('ml-100k')"
   ]
  },
  {
   "cell_type": "code",
   "execution_count": null,
   "id": "b009557a",
   "metadata": {},
   "outputs": [],
   "source": [
    "#Dividing the data into training and testing\n",
    "trainset , testset = train_test_split(data, test_size = .20)"
   ]
  },
  {
   "cell_type": "code",
   "execution_count": null,
   "id": "638e72cb",
   "metadata": {},
   "outputs": [],
   "source": [
    "#Initializing the SVD(Singular Value Decomposition) algorithm\n",
    "model = SVD()\n",
    "\n",
    "#Fitting the model\n",
    "model.fit(trainset)"
   ]
  },
  {
   "cell_type": "code",
   "execution_count": null,
   "id": "bac85c13",
   "metadata": {},
   "outputs": [],
   "source": [
    "#making Predictions\n",
    "predictions = model.test(testset)"
   ]
  },
  {
   "cell_type": "code",
   "execution_count": null,
   "id": "a97f1128",
   "metadata": {},
   "outputs": [],
   "source": [
    "#Predicting rating for a user for a particular movie\n",
    "uid = str(456) #User Id\n",
    "iid = str(131) #Item Id\n",
    "\n",
    "#Making prediction for a specific user and item\n",
    "pred = model.predict(uid,iid)"
   ]
  },
  {
   "cell_type": "code",
   "execution_count": null,
   "id": "92d069ef",
   "metadata": {},
   "outputs": [],
   "source": [
    "#Viewing the predicted Rating\n",
    "pred.est"
   ]
  }
 ],
 "metadata": {
  "kernelspec": {
   "display_name": "Python 3 (ipykernel)",
   "language": "python",
   "name": "python3"
  },
  "language_info": {
   "codemirror_mode": {
    "name": "ipython",
    "version": 3
   },
   "file_extension": ".py",
   "mimetype": "text/x-python",
   "name": "python",
   "nbconvert_exporter": "python",
   "pygments_lexer": "ipython3",
   "version": "3.9.13"
  }
 },
 "nbformat": 4,
 "nbformat_minor": 5
}
